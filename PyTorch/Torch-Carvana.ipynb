{
 "cells": [
  {
   "cell_type": "code",
   "execution_count": 2,
   "id": "5b4f75eb",
   "metadata": {},
   "outputs": [
    {
     "name": "stdout",
     "output_type": "stream",
     "text": [
      "Sun Jul  9 10:38:03 2023       \n",
      "+---------------------------------------------------------------------------------------+\n",
      "| NVIDIA-SMI 535.54.03              Driver Version: 535.54.03    CUDA Version: 12.2     |\n",
      "|-----------------------------------------+----------------------+----------------------+\n",
      "| GPU  Name                 Persistence-M | Bus-Id        Disp.A | Volatile Uncorr. ECC |\n",
      "| Fan  Temp   Perf          Pwr:Usage/Cap |         Memory-Usage | GPU-Util  Compute M. |\n",
      "|                                         |                      |               MIG M. |\n",
      "|=========================================+======================+======================|\n",
      "|   0  NVIDIA A100-SXM4-40GB          On  | 00000000:01:00.0 Off |                    0 |\n",
      "| N/A   34C    P0              56W / 400W |      4MiB / 40960MiB |      0%      Default |\n",
      "|                                         |                      |             Disabled |\n",
      "+-----------------------------------------+----------------------+----------------------+\n",
      "|   1  NVIDIA A100-SXM4-40GB          On  | 00000000:41:00.0 Off |                    0 |\n",
      "| N/A   33C    P0              53W / 400W |      4MiB / 40960MiB |      0%      Default |\n",
      "|                                         |                      |             Disabled |\n",
      "+-----------------------------------------+----------------------+----------------------+\n",
      "|   2  NVIDIA A100-SXM4-40GB          On  | 00000000:81:00.0 Off |                    0 |\n",
      "| N/A   31C    P0              53W / 400W |      4MiB / 40960MiB |      0%      Default |\n",
      "|                                         |                      |             Disabled |\n",
      "+-----------------------------------------+----------------------+----------------------+\n",
      "|   3  NVIDIA A100-SXM4-40GB          On  | 00000000:C1:00.0 Off |                    0 |\n",
      "| N/A   30C    P0              51W / 400W |      4MiB / 40960MiB |      0%      Default |\n",
      "|                                         |                      |             Disabled |\n",
      "+-----------------------------------------+----------------------+----------------------+\n",
      "                                                                                         \n",
      "+---------------------------------------------------------------------------------------+\n",
      "| Processes:                                                                            |\n",
      "|  GPU   GI   CI        PID   Type   Process name                            GPU Memory |\n",
      "|        ID   ID                                                             Usage      |\n",
      "|=======================================================================================|\n",
      "|  No running processes found                                                           |\n",
      "+---------------------------------------------------------------------------------------+\n"
     ]
    }
   ],
   "source": [
    "!nvidia-smi"
   ]
  },
  {
   "cell_type": "code",
   "execution_count": 3,
   "id": "842216d6",
   "metadata": {},
   "outputs": [],
   "source": [
    "import numpy as np\n",
    "import pandas as pd\n",
    "import os\n",
    "\n",
    "import glob\n",
    "import zipfile\n",
    "from PIL import Image\n",
    "\n",
    "import matplotlib.pyplot as plt\n",
    "from sklearn.model_selection import train_test_split\n",
    "\n",
    "import torch\n",
    "torch.manual_seed(42)\n",
    "import torch.nn as nn\n",
    "import torch.nn.functional as F\n",
    "from torchvision.io import read_image\n",
    "from torch.utils.data import Dataset, DataLoader\n",
    "from torchvision.transforms import ToTensor, CenterCrop"
   ]
  },
  {
   "cell_type": "code",
   "execution_count": 4,
   "id": "b4eeb482",
   "metadata": {},
   "outputs": [],
   "source": [
    "input_dir = \"./../carvana/\""
   ]
  },
  {
   "cell_type": "code",
   "execution_count": 5,
   "id": "aba6c2bf",
   "metadata": {},
   "outputs": [
    {
     "data": {
      "text/plain": [
       "5088"
      ]
     },
     "execution_count": 5,
     "metadata": {},
     "output_type": "execute_result"
    }
   ],
   "source": [
    "train_val_images_path = os.path.join(input_dir, 'train')\n",
    "\n",
    "train_val_images = os.listdir(train_val_images_path)\n",
    "\n",
    "train_val_images = sorted(train_val_images)\n",
    "\n",
    "train_val_images = [s.split(\"/\")[-1].split(\".\")[0] for s in train_val_images]\n",
    "\n",
    "len(train_val_images)"
   ]
  },
  {
   "cell_type": "code",
   "execution_count": 6,
   "id": "ebf0e02a",
   "metadata": {},
   "outputs": [],
   "source": [
    "train_images, val_images = train_test_split(train_val_images, test_size=0.2)"
   ]
  },
  {
   "cell_type": "code",
   "execution_count": 7,
   "id": "9531ab2f",
   "metadata": {},
   "outputs": [
    {
     "data": {
      "text/plain": [
       "('b38c4e132183_08', '3d7a1030deeb_02')"
      ]
     },
     "execution_count": 7,
     "metadata": {},
     "output_type": "execute_result"
    }
   ],
   "source": [
    "train_images[0], val_images[0]"
   ]
  },
  {
   "cell_type": "code",
   "execution_count": 8,
   "id": "938aef7e",
   "metadata": {},
   "outputs": [
    {
     "data": {
      "text/plain": [
       "(4070, 1018)"
      ]
     },
     "execution_count": 8,
     "metadata": {},
     "output_type": "execute_result"
    }
   ],
   "source": [
    "len(train_images), len(val_images)"
   ]
  },
  {
   "cell_type": "code",
   "execution_count": 9,
   "id": "e59da834",
   "metadata": {},
   "outputs": [],
   "source": [
    "img_size = 576\n",
    "\n",
    "class CustomImageDataset(Dataset):\n",
    "    def __init__(self, img_ids, transform=None):\n",
    "        self.img_ids = img_ids\n",
    "        self.transform = transform\n",
    "\n",
    "    def __len__(self):\n",
    "        return len(self.img_ids)\n",
    "\n",
    "    def __getitem__(self, idx):\n",
    "        img_id = self.img_ids[idx]\n",
    "        \n",
    "        img_path = os.path.join(input_dir, \"train/\" + img_id + \".jpg\")\n",
    "        mask_path = os.path.join(input_dir, \"train_masks/\" + img_id + \"_mask.gif\")\n",
    "        \n",
    "        image = Image.open(img_path)\n",
    "        image = image.resize((img_size, img_size))\n",
    "        mask = Image.open(mask_path).convert(\"L\")\n",
    "        mask = mask.resize((img_size, img_size))\n",
    "        if self.transform:\n",
    "            image = self.transform(image)\n",
    "            mask = self.transform(mask)\n",
    "        \n",
    "        return image, mask"
   ]
  },
  {
   "cell_type": "code",
   "execution_count": 10,
   "id": "9c2bea62",
   "metadata": {},
   "outputs": [],
   "source": [
    "training_data = CustomImageDataset(train_images, ToTensor())\n",
    "val_data = CustomImageDataset(val_images, ToTensor())"
   ]
  },
  {
   "cell_type": "code",
   "execution_count": 13,
   "id": "f1298272",
   "metadata": {},
   "outputs": [
    {
     "name": "stdout",
     "output_type": "stream",
     "text": [
      "Sample X Shape: torch.Size([3, 576, 576])\n",
      "Sample y Shape: torch.Size([1, 576, 576])\n"
     ]
    }
   ],
   "source": [
    "sample_x, sample_y = training_data[0]\n",
    "\n",
    "print(f'Sample X Shape: {sample_x.shape}')\n",
    "print(f'Sample y Shape: {sample_y.shape}')"
   ]
  },
  {
   "cell_type": "code",
   "execution_count": 14,
   "id": "5795296b",
   "metadata": {},
   "outputs": [],
   "source": [
    "train_dataloader = DataLoader(training_data, batch_size=16, shuffle=True)\n",
    "val_dataloader = DataLoader(val_data, batch_size=16, shuffle=True)"
   ]
  },
  {
   "cell_type": "code",
   "execution_count": 15,
   "id": "fa0ba8f4",
   "metadata": {},
   "outputs": [
    {
     "name": "stdout",
     "output_type": "stream",
     "text": [
      "Using cuda device\n"
     ]
    }
   ],
   "source": [
    "device = \"cuda\" if torch.cuda.is_available() else \"mps\" if torch.backends.mps.is_available() else \"cpu\"\n",
    "print(f\"Using {device} device\")"
   ]
  },
  {
   "cell_type": "code",
   "execution_count": 16,
   "id": "d8ce177a",
   "metadata": {},
   "outputs": [],
   "source": [
    "class ConvBlock(nn.Module):\n",
    "    def __init__(self, in_channels: int, out_channels: int):\n",
    "        super(ConvBlock, self).__init__()\n",
    "        self.block = nn.Sequential(\n",
    "            nn.Conv2d(in_channels, out_channels, kernel_size=3, stride=1, padding=1),\n",
    "            nn.BatchNorm2d(out_channels),\n",
    "            nn.ReLU(inplace=True),\n",
    "            \n",
    "            nn.Conv2d(out_channels, out_channels, kernel_size=3, stride=1, padding=1),\n",
    "            nn.BatchNorm2d(out_channels),\n",
    "            nn.ReLU(inplace=True)\n",
    "        )\n",
    "        \n",
    "    def forward(self, x: torch.Tensor):\n",
    "        return self.block(x)\n",
    "    \n",
    "class CopyAndCrop(nn.Module):\n",
    "    def forward(self, x: torch.Tensor, encoded: torch.Tensor):\n",
    "        _, _, h, w = encoded.shape\n",
    "        crop = CenterCrop((h, w))(x)\n",
    "        output = torch.cat((x, crop), 1)\n",
    "        \n",
    "        return output\n",
    "\n",
    "    \n",
    "class UNet(nn.Module):\n",
    "    def __init__(self, in_channels: int, out_channels: int):\n",
    "        super(UNet, self).__init__()\n",
    "\n",
    "        self.encoders = nn.ModuleList([\n",
    "            ConvBlock(in_channels, 64),\n",
    "            ConvBlock(64, 128),\n",
    "            ConvBlock(128, 256),\n",
    "            ConvBlock(256, 512),\n",
    "        ])\n",
    "        self.down_sample = nn.MaxPool2d(2)\n",
    "        self.copyAndCrop = CopyAndCrop()\n",
    "        self.decoders = nn.ModuleList([\n",
    "            ConvBlock(1024, 512),\n",
    "            ConvBlock(512, 256),\n",
    "            ConvBlock(256, 128),\n",
    "            ConvBlock(128, 64),\n",
    "        ])\n",
    "\n",
    "\n",
    "        self.up_samples = nn.ModuleList([\n",
    "            nn.ConvTranspose2d(1024, 512, kernel_size=2, stride=2),\n",
    "            nn.ConvTranspose2d(512, 256, kernel_size=2, stride=2),\n",
    "            nn.ConvTranspose2d(256, 128, kernel_size=2, stride=2),\n",
    "            nn.ConvTranspose2d(128, 64, kernel_size=2, stride=2)\n",
    "        ])\n",
    "\n",
    "\n",
    "        self.bottleneck = ConvBlock(512, 1024)\n",
    "        self.final_conv = nn.Conv2d(64, out_channels, kernel_size=1, stride=1)\n",
    "        \n",
    "    def forward(self, x: torch.Tensor):\n",
    "        # encode\n",
    "        encoded_features = []\n",
    "        for enc in self.encoders:\n",
    "            x = enc(x)\n",
    "            encoded_features.append(x)\n",
    "            x = self.down_sample(x)\n",
    "            \n",
    "        \n",
    "        x = self.bottleneck(x)\n",
    "        \n",
    "        # decode\n",
    "        for idx, denc in enumerate(self.decoders):\n",
    "            x = self.up_samples[idx](x)\n",
    "            encoded = encoded_features.pop()\n",
    "            x = self.copyAndCrop(x, encoded)\n",
    "            x = denc(x)\n",
    "            \n",
    "        output = self.final_conv(x)\n",
    "        return output"
   ]
  },
  {
   "cell_type": "code",
   "execution_count": 17,
   "id": "0d036e68",
   "metadata": {},
   "outputs": [
    {
     "name": "stdout",
     "output_type": "stream",
     "text": [
      "UNet(\n",
      "  (encoders): ModuleList(\n",
      "    (0): ConvBlock(\n",
      "      (block): Sequential(\n",
      "        (0): Conv2d(3, 64, kernel_size=(3, 3), stride=(1, 1), padding=(1, 1))\n",
      "        (1): BatchNorm2d(64, eps=1e-05, momentum=0.1, affine=True, track_running_stats=True)\n",
      "        (2): ReLU(inplace=True)\n",
      "        (3): Conv2d(64, 64, kernel_size=(3, 3), stride=(1, 1), padding=(1, 1))\n",
      "        (4): BatchNorm2d(64, eps=1e-05, momentum=0.1, affine=True, track_running_stats=True)\n",
      "        (5): ReLU(inplace=True)\n",
      "      )\n",
      "    )\n",
      "    (1): ConvBlock(\n",
      "      (block): Sequential(\n",
      "        (0): Conv2d(64, 128, kernel_size=(3, 3), stride=(1, 1), padding=(1, 1))\n",
      "        (1): BatchNorm2d(128, eps=1e-05, momentum=0.1, affine=True, track_running_stats=True)\n",
      "        (2): ReLU(inplace=True)\n",
      "        (3): Conv2d(128, 128, kernel_size=(3, 3), stride=(1, 1), padding=(1, 1))\n",
      "        (4): BatchNorm2d(128, eps=1e-05, momentum=0.1, affine=True, track_running_stats=True)\n",
      "        (5): ReLU(inplace=True)\n",
      "      )\n",
      "    )\n",
      "    (2): ConvBlock(\n",
      "      (block): Sequential(\n",
      "        (0): Conv2d(128, 256, kernel_size=(3, 3), stride=(1, 1), padding=(1, 1))\n",
      "        (1): BatchNorm2d(256, eps=1e-05, momentum=0.1, affine=True, track_running_stats=True)\n",
      "        (2): ReLU(inplace=True)\n",
      "        (3): Conv2d(256, 256, kernel_size=(3, 3), stride=(1, 1), padding=(1, 1))\n",
      "        (4): BatchNorm2d(256, eps=1e-05, momentum=0.1, affine=True, track_running_stats=True)\n",
      "        (5): ReLU(inplace=True)\n",
      "      )\n",
      "    )\n",
      "    (3): ConvBlock(\n",
      "      (block): Sequential(\n",
      "        (0): Conv2d(256, 512, kernel_size=(3, 3), stride=(1, 1), padding=(1, 1))\n",
      "        (1): BatchNorm2d(512, eps=1e-05, momentum=0.1, affine=True, track_running_stats=True)\n",
      "        (2): ReLU(inplace=True)\n",
      "        (3): Conv2d(512, 512, kernel_size=(3, 3), stride=(1, 1), padding=(1, 1))\n",
      "        (4): BatchNorm2d(512, eps=1e-05, momentum=0.1, affine=True, track_running_stats=True)\n",
      "        (5): ReLU(inplace=True)\n",
      "      )\n",
      "    )\n",
      "  )\n",
      "  (down_sample): MaxPool2d(kernel_size=2, stride=2, padding=0, dilation=1, ceil_mode=False)\n",
      "  (copyAndCrop): CopyAndCrop()\n",
      "  (decoders): ModuleList(\n",
      "    (0): ConvBlock(\n",
      "      (block): Sequential(\n",
      "        (0): Conv2d(1024, 512, kernel_size=(3, 3), stride=(1, 1), padding=(1, 1))\n",
      "        (1): BatchNorm2d(512, eps=1e-05, momentum=0.1, affine=True, track_running_stats=True)\n",
      "        (2): ReLU(inplace=True)\n",
      "        (3): Conv2d(512, 512, kernel_size=(3, 3), stride=(1, 1), padding=(1, 1))\n",
      "        (4): BatchNorm2d(512, eps=1e-05, momentum=0.1, affine=True, track_running_stats=True)\n",
      "        (5): ReLU(inplace=True)\n",
      "      )\n",
      "    )\n",
      "    (1): ConvBlock(\n",
      "      (block): Sequential(\n",
      "        (0): Conv2d(512, 256, kernel_size=(3, 3), stride=(1, 1), padding=(1, 1))\n",
      "        (1): BatchNorm2d(256, eps=1e-05, momentum=0.1, affine=True, track_running_stats=True)\n",
      "        (2): ReLU(inplace=True)\n",
      "        (3): Conv2d(256, 256, kernel_size=(3, 3), stride=(1, 1), padding=(1, 1))\n",
      "        (4): BatchNorm2d(256, eps=1e-05, momentum=0.1, affine=True, track_running_stats=True)\n",
      "        (5): ReLU(inplace=True)\n",
      "      )\n",
      "    )\n",
      "    (2): ConvBlock(\n",
      "      (block): Sequential(\n",
      "        (0): Conv2d(256, 128, kernel_size=(3, 3), stride=(1, 1), padding=(1, 1))\n",
      "        (1): BatchNorm2d(128, eps=1e-05, momentum=0.1, affine=True, track_running_stats=True)\n",
      "        (2): ReLU(inplace=True)\n",
      "        (3): Conv2d(128, 128, kernel_size=(3, 3), stride=(1, 1), padding=(1, 1))\n",
      "        (4): BatchNorm2d(128, eps=1e-05, momentum=0.1, affine=True, track_running_stats=True)\n",
      "        (5): ReLU(inplace=True)\n",
      "      )\n",
      "    )\n",
      "    (3): ConvBlock(\n",
      "      (block): Sequential(\n",
      "        (0): Conv2d(128, 64, kernel_size=(3, 3), stride=(1, 1), padding=(1, 1))\n",
      "        (1): BatchNorm2d(64, eps=1e-05, momentum=0.1, affine=True, track_running_stats=True)\n",
      "        (2): ReLU(inplace=True)\n",
      "        (3): Conv2d(64, 64, kernel_size=(3, 3), stride=(1, 1), padding=(1, 1))\n",
      "        (4): BatchNorm2d(64, eps=1e-05, momentum=0.1, affine=True, track_running_stats=True)\n",
      "        (5): ReLU(inplace=True)\n",
      "      )\n",
      "    )\n",
      "  )\n",
      "  (up_samples): ModuleList(\n",
      "    (0): ConvTranspose2d(1024, 512, kernel_size=(2, 2), stride=(2, 2))\n",
      "    (1): ConvTranspose2d(512, 256, kernel_size=(2, 2), stride=(2, 2))\n",
      "    (2): ConvTranspose2d(256, 128, kernel_size=(2, 2), stride=(2, 2))\n",
      "    (3): ConvTranspose2d(128, 64, kernel_size=(2, 2), stride=(2, 2))\n",
      "  )\n",
      "  (bottleneck): ConvBlock(\n",
      "    (block): Sequential(\n",
      "      (0): Conv2d(512, 1024, kernel_size=(3, 3), stride=(1, 1), padding=(1, 1))\n",
      "      (1): BatchNorm2d(1024, eps=1e-05, momentum=0.1, affine=True, track_running_stats=True)\n",
      "      (2): ReLU(inplace=True)\n",
      "      (3): Conv2d(1024, 1024, kernel_size=(3, 3), stride=(1, 1), padding=(1, 1))\n",
      "      (4): BatchNorm2d(1024, eps=1e-05, momentum=0.1, affine=True, track_running_stats=True)\n",
      "      (5): ReLU(inplace=True)\n",
      "    )\n",
      "  )\n",
      "  (final_conv): Conv2d(64, 1, kernel_size=(1, 1), stride=(1, 1))\n",
      ")\n"
     ]
    }
   ],
   "source": [
    "model = UNet(in_channels=3, out_channels=1).to(device)\n",
    "print(model)"
   ]
  },
  {
   "cell_type": "code",
   "execution_count": 18,
   "id": "3061d8c8",
   "metadata": {},
   "outputs": [],
   "source": [
    "# class UNet(nn.Module):\n",
    "#     def __init__(self):\n",
    "#         super().__init__()\n",
    "#         self.conv1 = nn.Conv2d(in_channels=3, out_channels=64, kernel_size=3, padding=1)\n",
    "#         self.conv2 = nn.Conv2d(in_channels=64, out_channels=64, kernel_size=3, padding=1)\n",
    "        \n",
    "#         self.conv3 = nn.Conv2d(in_channels=64, out_channels=128, kernel_size=3, padding=1)\n",
    "#         self.conv4 = nn.Conv2d(in_channels=128, out_channels=128, kernel_size=3, padding=1)\n",
    "        \n",
    "#         self.conv5 = nn.Conv2d(in_channels=128, out_channels=256, kernel_size=3, padding=1)\n",
    "#         self.conv6 = nn.Conv2d(in_channels=256, out_channels=256, kernel_size=3, padding=1)\n",
    "        \n",
    "#         self.conv7 = nn.Conv2d(in_channels=256, out_channels=512, kernel_size=3, padding=1)\n",
    "#         self.conv8 = nn.Conv2d(in_channels=512, out_channels=512, kernel_size=3, padding=1)\n",
    "        \n",
    "#         self.conv9 = nn.Conv2d(in_channels=512, out_channels=1024, kernel_size=3, padding=1)\n",
    "#         self.conv10 = nn.Conv2d(in_channels=1024, out_channels=1024, kernel_size=3, padding=1)\n",
    "        \n",
    "#         self.upconv1 = nn.ConvTranspose2d(in_channels=1024, out_channels=512, kernel_size=2, stride=2)\n",
    "        \n",
    "#         self.conv11 = nn.Conv2d(in_channels=1024, out_channels=512, kernel_size=3, padding=1)\n",
    "#         self.conv12 = nn.Conv2d(in_channels=512, out_channels=512, kernel_size=3, padding=1)\n",
    "        \n",
    "#         self.upconv2 = nn.ConvTranspose2d(in_channels=512, out_channels=256, kernel_size=2, stride=2)\n",
    "        \n",
    "#         self.conv13 = nn.Conv2d(in_channels=512, out_channels=256, kernel_size=3, padding=1)\n",
    "#         self.conv14 = nn.Conv2d(in_channels=256, out_channels=256, kernel_size=3, padding=1)\n",
    "        \n",
    "#         self.upconv3 = nn.ConvTranspose2d(in_channels=256, out_channels=128, kernel_size=2, stride=2)\n",
    "        \n",
    "#         self.conv15 = nn.Conv2d(in_channels=256, out_channels=128, kernel_size=3, padding=1)\n",
    "#         self.conv16 = nn.Conv2d(in_channels=128, out_channels=128, kernel_size=3, padding=1)\n",
    "        \n",
    "#         self.upconv4 = nn.ConvTranspose2d(in_channels=128, out_channels=64, kernel_size=2, stride=2)\n",
    "        \n",
    "#         self.conv17 = nn.Conv2d(in_channels=128, out_channels=64, kernel_size=3, padding=1)\n",
    "#         self.conv18 = nn.Conv2d(in_channels=64, out_channels=64, kernel_size=3, padding=1)\n",
    "        \n",
    "#         self.finalconv = nn.Conv2d(in_channels=64, out_channels=1, kernel_size=1)\n",
    "\n",
    "#         self.pool = nn.MaxPool2d(kernel_size=2, stride=2)\n",
    "\n",
    "\n",
    "#     def forward(self, x):\n",
    "#         x = F.relu(self.conv1(x))\n",
    "#         x = F.relu(self.conv2(x))\n",
    "        \n",
    "#         crop1 = CenterCrop((img_size, img_size))(x)\n",
    "        \n",
    "#         x = F.relu(self.pool(x))\n",
    "        \n",
    "#         x = F.relu(self.conv3(x))\n",
    "#         x = F.relu(self.conv4(x))\n",
    "\n",
    "#         crop2 = CenterCrop((img_size//2, img_size//2))(x)\n",
    "        \n",
    "#         x = F.relu(self.pool(x))\n",
    "        \n",
    "#         x = F.relu(self.conv5(x))\n",
    "#         x = F.relu(self.conv6(x))\n",
    "        \n",
    "#         crop3 = CenterCrop((img_size//4, img_size//4))(x)\n",
    "                \n",
    "#         x = F.relu(self.pool(x))\n",
    "        \n",
    "#         x = F.relu(self.conv7(x))\n",
    "#         x = F.relu(self.conv8(x))\n",
    "#         crop4 = CenterCrop((img_size//8, img_size//8))(x)\n",
    "        \n",
    "#         x = F.relu(self.pool(x))\n",
    "        \n",
    "#         x = F.relu(self.conv9(x))\n",
    "#         x = F.relu(self.conv10(x))\n",
    "        \n",
    "#         x = F.relu(torch.cat((self.upconv1(x), crop4), 1))\n",
    "        \n",
    "        \n",
    "#         x = F.relu(self.conv11(x))\n",
    "#         x = F.relu(self.conv12(x))\n",
    "        \n",
    "#         x = F.relu(torch.cat((self.upconv2(x), crop3), 1))\n",
    "\n",
    "#         x = F.relu(self.conv13(x))\n",
    "#         x = F.relu(self.conv14(x))\n",
    "        \n",
    "#         x = F.relu(torch.cat((self.upconv3(x), crop2), 1))\n",
    "\n",
    "#         x = F.relu(self.conv15(x))\n",
    "#         x = F.relu(self.conv16(x))\n",
    "\n",
    "#         x = F.relu(torch.cat((self.upconv4(x), crop1), 1))\n",
    "\n",
    "#         x = F.relu(self.conv17(x))\n",
    "#         x = F.relu(self.conv18(x))\n",
    "\n",
    "#         x = self.finalconv(x)\n",
    "\n",
    "#         return x\n",
    "\n",
    "        \n",
    "# model = UNet().to(device)\n",
    "# print(model)"
   ]
  },
  {
   "cell_type": "code",
   "execution_count": 19,
   "id": "ecb9f194",
   "metadata": {},
   "outputs": [],
   "source": [
    "loss_fn = nn.BCEWithLogitsLoss()\n",
    "optimizer = torch.optim.Adam(model.parameters(), lr=0.0002)"
   ]
  },
  {
   "cell_type": "code",
   "execution_count": 20,
   "id": "275cf2cf",
   "metadata": {},
   "outputs": [],
   "source": [
    "def train(dataloader, model, loss_fn, optimizer):\n",
    "    size = len(dataloader.dataset)\n",
    "    model.train()\n",
    "    \n",
    "    train_losses = []\n",
    "    \n",
    "    for batch, (X, y) in enumerate(dataloader):\n",
    "        X, y = X.to(device), y.to(device)\n",
    "\n",
    "        pred = model(X)\n",
    "        loss = loss_fn(pred, y)\n",
    "        \n",
    "        train_losses.append(loss.item())\n",
    "        \n",
    "        # Backpropagation\n",
    "        optimizer.zero_grad()\n",
    "        loss.backward()\n",
    "        optimizer.step()\n",
    "        \n",
    "        if batch % 100 == 0:\n",
    "            loss, current = loss.item(), (batch + 1) * len(X)\n",
    "            print(f\"loss: {loss:>7f}  [{current:>5d}/{size:>5d}]\")\n",
    "    return train_losses"
   ]
  },
  {
   "cell_type": "code",
   "execution_count": 21,
   "id": "45c65226",
   "metadata": {},
   "outputs": [
    {
     "name": "stdout",
     "output_type": "stream",
     "text": [
      "Epoch 1\n",
      "-------------------------------\n",
      "loss: 0.674082  [   16/ 4070]\n",
      "loss: 0.132693  [ 1616/ 4070]\n",
      "loss: 0.087667  [ 3216/ 4070]\n",
      "Epoch 2\n",
      "-------------------------------\n",
      "loss: 0.077820  [   16/ 4070]\n",
      "loss: 0.052925  [ 1616/ 4070]\n",
      "loss: 0.046938  [ 3216/ 4070]\n",
      "Epoch 3\n",
      "-------------------------------\n",
      "loss: 0.037962  [   16/ 4070]\n",
      "loss: 0.030184  [ 1616/ 4070]\n",
      "loss: 0.024174  [ 3216/ 4070]\n",
      "Done!\n"
     ]
    }
   ],
   "source": [
    "epochs = 3\n",
    "\n",
    "for t in range(epochs):\n",
    "    print(f\"Epoch {t+1}\\n-------------------------------\")\n",
    "    history = train(train_dataloader, model, loss_fn, optimizer)\n",
    "print(\"Done!\")"
   ]
  },
  {
   "cell_type": "code",
   "execution_count": null,
   "id": "98316e71",
   "metadata": {},
   "outputs": [],
   "source": [
    "def plot_images(images, mask = False):\n",
    "    fig = plt.figure(figsize=(10, 8))\n",
    "    columns = len(images)\n",
    "    rows = 1\n",
    "    for i in range(columns*rows):\n",
    "        img = images[i]\n",
    "        fig.add_subplot(rows, columns, i+1)\n",
    "        if mask:\n",
    "            img = img > 0.5\n",
    "        plt.imshow(img, cmap=\"gray\")\n",
    "    plt.show()"
   ]
  },
  {
   "cell_type": "code",
   "execution_count": null,
   "id": "2d70cc59",
   "metadata": {},
   "outputs": [],
   "source": [
    "def visualize_result(dataloader):\n",
    "    tr_imgs = []\n",
    "    msk_imgs = []\n",
    "    \n",
    "    for x, y in dataloader:\n",
    "        x = x.to(device)\n",
    "        \n",
    "        pred = model(x)\n",
    "        \n",
    "        for i in range(x.shape[0]):\n",
    "            tr_img = x[i].cpu().detach().numpy()\n",
    "            tr_img = np.einsum('kij->ijk',tr_img)\n",
    "            tr_imgs.append(tr_img)\n",
    "            \n",
    "            msk_img = pred[i].cpu().detach().numpy()\n",
    "            msk_img = msk_img.reshape((img_size, img_size))\n",
    "            msk_imgs.append(msk_img)\n",
    "\n",
    "        break\n",
    "        \n",
    "    plot_images(tr_imgs, mask=False)\n",
    "    plot_images(msk_imgs, mask=True)"
   ]
  },
  {
   "cell_type": "code",
   "execution_count": null,
   "id": "496649aa",
   "metadata": {},
   "outputs": [],
   "source": [
    "def plot_history(losses):\n",
    "    plt.style.use('ggplot')\n",
    "    plt.plot(losses)\n",
    "    plt.title('Train loss')\n",
    "    plt.xlabel('Batch')\n",
    "    plt.ylabel('Loss')\n",
    "    plt.grid()\n",
    "    plt.show()"
   ]
  },
  {
   "cell_type": "code",
   "execution_count": null,
   "id": "dd3b3f5d",
   "metadata": {},
   "outputs": [],
   "source": [
    "visualize_result(val_dataloader)"
   ]
  },
  {
   "cell_type": "code",
   "execution_count": null,
   "id": "51ec085b",
   "metadata": {},
   "outputs": [],
   "source": [
    "plot_history(history)"
   ]
  },
  {
   "cell_type": "code",
   "execution_count": null,
   "id": "447b5112",
   "metadata": {},
   "outputs": [],
   "source": [
    "torch.save(model.state_dict(), \"model.pth\")"
   ]
  },
  {
   "cell_type": "code",
   "execution_count": null,
   "id": "4c097f80",
   "metadata": {},
   "outputs": [],
   "source": []
  }
 ],
 "metadata": {
  "kernelspec": {
   "display_name": "Python 3 (ipykernel)",
   "language": "python",
   "name": "python3"
  },
  "language_info": {
   "codemirror_mode": {
    "name": "ipython",
    "version": 3
   },
   "file_extension": ".py",
   "mimetype": "text/x-python",
   "name": "python",
   "nbconvert_exporter": "python",
   "pygments_lexer": "ipython3",
   "version": "3.10.9"
  }
 },
 "nbformat": 4,
 "nbformat_minor": 5
}
